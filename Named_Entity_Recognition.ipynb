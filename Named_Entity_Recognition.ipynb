{
  "nbformat": 4,
  "nbformat_minor": 0,
  "metadata": {
    "colab": {
      "provenance": []
    },
    "kernelspec": {
      "name": "python3",
      "display_name": "Python 3"
    },
    "language_info": {
      "name": "python"
    }
  },
  "cells": [
    {
      "cell_type": "code",
      "execution_count": 38,
      "metadata": {
        "colab": {
          "base_uri": "https://localhost:8080/"
        },
        "id": "w2l5O6zjfXUM",
        "outputId": "25f5fb79-c58c-4c6c-e66b-a5f61cd439a2"
      },
      "outputs": [
        {
          "output_type": "stream",
          "name": "stdout",
          "text": [
            "Fetched Article:\n",
            " Simone Biles makes history with second all-around Olympic gymnastics title, 8 years after her first - The Associated Press Simone Biles edged Rebeca Andrade of Brazil during a tense all-around gymnastics final Thursday to become a two-time Olympic champion. Biles’ total of 59.131 was just ahead of Andrade at 57.932. That's one of the closest calls Biles has ever endured at a majo…\n"
          ]
        }
      ],
      "source": [
        "import requests\n",
        "import nltk\n",
        "from nltk import word_tokenize, pos_tag, ne_chunk\n",
        "import spacy\n",
        "\n",
        "# Fetch News Article\n",
        "def fetch_news_article(api_key):\n",
        "    url = f'https://newsapi.org/v2/top-headlines?country=us&apiKey={api_key}'\n",
        "    response = requests.get(url)\n",
        "    data = response.json()\n",
        "    if data['status'] == 'ok' and data['articles']:\n",
        "        articles = data['articles']\n",
        "        for article in articles:\n",
        "            if article['title'] and article['description']:\n",
        "                return article['title'] + \" \" + article['description']\n",
        "    return None\n",
        "\n",
        "\n",
        "api_key = 'ab5ef6d0e2fc41d9bb51022951e52b41'\n",
        "article = fetch_news_article(api_key)\n",
        "if article:\n",
        "    print(\"Fetched Article:\\n\", article)\n",
        "else:\n",
        "    print(\"Failed to fetch an article. Please check your API key and network connection.\")"
      ]
    },
    {
      "cell_type": "code",
      "source": [
        "nltk.download('punkt')\n",
        "nltk.download('averaged_perceptron_tagger')\n",
        "nltk.download('maxent_ne_chunker')\n",
        "nltk.download('words')\n",
        "\n",
        "def nltk_ner(text):\n",
        "    words = word_tokenize(text)\n",
        "    tags = pos_tag(words)\n",
        "    tree = ne_chunk(tags)\n",
        "    entities = []\n",
        "    for subtree in tree:\n",
        "        if isinstance(subtree, nltk.Tree):\n",
        "            entity = \" \".join([word for word, tag in subtree.leaves()])\n",
        "            entity_type = subtree.label()\n",
        "            entities.append((entity, entity_type))\n",
        "    return entities\n",
        "\n",
        "if article:\n",
        "    nltk_entities = nltk_ner(article)\n",
        "    print(\"NLTK Entities:\", nltk_entities)\n",
        "else:\n",
        "    print(\"No article to process.\")\n"
      ],
      "metadata": {
        "colab": {
          "base_uri": "https://localhost:8080/"
        },
        "id": "73XjJrAzhPzs",
        "outputId": "8de6ae0e-0dbe-4b70-92c5-84b1947d65a9"
      },
      "execution_count": 39,
      "outputs": [
        {
          "output_type": "stream",
          "name": "stdout",
          "text": [
            "NLTK Entities: [('Simone', 'PERSON'), ('Biles', 'PERSON'), ('Associated', 'ORGANIZATION'), ('Biles', 'PERSON'), ('Rebeca Andrade', 'PERSON'), ('Brazil', 'GPE'), ('Biles', 'PERSON'), ('Andrade', 'PERSON'), ('Biles', 'PERSON')]\n"
          ]
        },
        {
          "output_type": "stream",
          "name": "stderr",
          "text": [
            "[nltk_data] Downloading package punkt to /root/nltk_data...\n",
            "[nltk_data]   Package punkt is already up-to-date!\n",
            "[nltk_data] Downloading package averaged_perceptron_tagger to\n",
            "[nltk_data]     /root/nltk_data...\n",
            "[nltk_data]   Package averaged_perceptron_tagger is already up-to-\n",
            "[nltk_data]       date!\n",
            "[nltk_data] Downloading package maxent_ne_chunker to\n",
            "[nltk_data]     /root/nltk_data...\n",
            "[nltk_data]   Package maxent_ne_chunker is already up-to-date!\n",
            "[nltk_data] Downloading package words to /root/nltk_data...\n",
            "[nltk_data]   Package words is already up-to-date!\n"
          ]
        }
      ]
    },
    {
      "cell_type": "code",
      "source": [
        "import spacy\n",
        "print(spacy.__version__)\n"
      ],
      "metadata": {
        "colab": {
          "base_uri": "https://localhost:8080/"
        },
        "id": "8-daRbZfmNkW",
        "outputId": "37df0de5-fb1d-436b-d4ca-d885ea0119d7"
      },
      "execution_count": null,
      "outputs": [
        {
          "output_type": "stream",
          "name": "stdout",
          "text": [
            "3.7.5\n"
          ]
        }
      ]
    },
    {
      "cell_type": "code",
      "source": [
        "nlp = spacy.load('en_core_web_sm')\n",
        "\n",
        "def spacy_ner(text):\n",
        "    doc = nlp(text)\n",
        "    entities = [(ent.text, ent.label_) for ent in doc.ents]\n",
        "    return entities\n",
        "\n",
        "if article:\n",
        "    spacy_entities = spacy_ner(article)\n",
        "    print(\"SpaCy Entities:\", spacy_entities)\n",
        "else:\n",
        "    print(\"No article to process.\")\n"
      ],
      "metadata": {
        "id": "q1k1xsuDmTa2",
        "outputId": "bbfed808-2a12-4a2a-ff9b-ca23f777364e",
        "colab": {
          "base_uri": "https://localhost:8080/"
        }
      },
      "execution_count": 42,
      "outputs": [
        {
          "output_type": "stream",
          "name": "stdout",
          "text": [
            "SpaCy Entities: [('Simone Biles', 'PERSON'), ('second', 'ORDINAL'), ('Olympic gymnastics', 'ORG'), ('8 years', 'DATE'), ('first', 'ORDINAL'), ('Rebeca Andrade', 'PERSON'), ('Brazil', 'GPE'), ('Thursday', 'DATE'), ('two', 'CARDINAL'), ('59.131', 'CARDINAL'), ('Andrade', 'PERSON'), ('57.932', 'CARDINAL'), ('one', 'CARDINAL'), ('Biles', 'PERSON')]\n"
          ]
        }
      ]
    },
    {
      "cell_type": "code",
      "source": [
        "def compare_entities(nltk_entities, spacy_entities):\n",
        "    nltk_set = set(nltk_entities)\n",
        "    spacy_set = set(spacy_entities)\n",
        "\n",
        "    common = nltk_set & spacy_set\n",
        "    only_nltk = nltk_set - spacy_set\n",
        "    only_spacy = spacy_set - nltk_set\n",
        "\n",
        "    return common, only_nltk, only_spacy\n",
        "\n",
        "if article:\n",
        "    common_entities, only_nltk_entities, only_spacy_entities = compare_entities(nltk_entities, spacy_entities)\n",
        "\n",
        "    print(\"Common Entities:\", common_entities)\n",
        "    print(\"Entities only in NLTK:\", only_nltk_entities)\n",
        "    print(\"Entities only in SpaCy:\", only_spacy_entities)\n",
        "else:\n",
        "    print(\"No entities to compare.\")\n"
      ],
      "metadata": {
        "colab": {
          "base_uri": "https://localhost:8080/"
        },
        "id": "ZHh3VKeDiRpy",
        "outputId": "6922b299-4d2e-45f3-e2f0-4e3d9332c35d"
      },
      "execution_count": 43,
      "outputs": [
        {
          "output_type": "stream",
          "name": "stdout",
          "text": [
            "Common Entities: {('Brazil', 'GPE'), ('Rebeca Andrade', 'PERSON'), ('Biles', 'PERSON'), ('Andrade', 'PERSON')}\n",
            "Entities only in NLTK: {('Associated', 'ORGANIZATION'), ('Simone', 'PERSON')}\n",
            "Entities only in SpaCy: {('Thursday', 'DATE'), ('57.932', 'CARDINAL'), ('59.131', 'CARDINAL'), ('first', 'ORDINAL'), ('8 years', 'DATE'), ('two', 'CARDINAL'), ('Olympic gymnastics', 'ORG'), ('one', 'CARDINAL'), ('second', 'ORDINAL'), ('Simone Biles', 'PERSON')}\n"
          ]
        }
      ]
    }
  ]
}